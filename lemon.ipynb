{
  "nbformat": 4,
  "nbformat_minor": 0,
  "metadata": {
    "colab": {
      "provenance": [],
      "authorship_tag": "ABX9TyM5abX/PePmGZ1qQN+LE7hr",
      "include_colab_link": true
    },
    "kernelspec": {
      "name": "python3",
      "display_name": "Python 3"
    },
    "language_info": {
      "name": "python"
    }
  },
  "cells": [
    {
      "cell_type": "markdown",
      "metadata": {
        "id": "view-in-github",
        "colab_type": "text"
      },
      "source": [
        "<a href=\"https://colab.research.google.com/github/suilwinglemon123/PythonSpiderNotes/blob/master/lemon.ipynb\" target=\"_parent\"><img src=\"https://colab.research.google.com/assets/colab-badge.svg\" alt=\"Open In Colab\"/></a>"
      ]
    },
    {
      "cell_type": "code",
      "source": [
        "# 安装必要库并配置环境\n",
        "!pip install -q ipympl matplotlib numpy\n",
        "from google.colab import output\n",
        "output.enable_custom_widget_manager()\n",
        "\n",
        "import numpy as np\n",
        "import matplotlib.pyplot as plt\n",
        "from matplotlib.widgets import Slider\n",
        "\n",
        "# 使用 Colab 兼容的后端\n",
        "%matplotlib inline\n",
        "plt.ioff()  # 关闭交互模式以避免冲突\n",
        "\n",
        "# 初始化矩阵和图形\n",
        "A = np.array([[1, 0.5], [0.5, 1]])\n",
        "fig, (ax1, ax2) = plt.subplots(1, 2, figsize=(12, 6))\n",
        "plt.subplots_adjust(bottom=0.25)\n",
        "\n",
        "# 定义更新函数\n",
        "def plot_transformation(matrix):\n",
        "    ax1.clear()\n",
        "    ax2.clear()\n",
        "\n",
        "    # 绘制网格变换\n",
        "    grid = np.array([[0,1,1,0,0], [0,0,1,1,0]])\n",
        "    transformed = matrix @ grid\n",
        "    ax1.plot(grid[0], grid[1], 'b-', label='Original')\n",
        "    ax1.plot(transformed[0], transformed[1], 'r-', label='Transformed')\n",
        "    ax1.legend()\n",
        "    ax1.set(xlim=(-3, 3), ylim=(-3, 3), aspect='equal', title='网格变换')\n",
        "\n",
        "    # 绘制特征向量\n",
        "    eigvals, eigvecs = np.linalg.eig(matrix)\n",
        "    colors = ['g', 'm']\n",
        "    for i in range(len(eigvals)):\n",
        "        vec = eigvecs[:, i] * eigvals[i]\n",
        "        ax2.quiver(0, 0, vec[0], vec[1], color=colors[i],\n",
        "                   angles='xy', scale_units='xy', scale=1,\n",
        "                   label=f'λ={eigvals[i]:.2f}')\n",
        "    ax2.set(xlim=(-3, 3), ylim=(-3, 3), aspect='equal', title='特征向量/值')\n",
        "    ax2.legend()\n",
        "\n",
        "# 首次绘制\n",
        "plot_transformation(A)\n",
        "\n",
        "# 添加交互控件（Colab 适配版）\n",
        "slider_ax = plt.axes([0.2, 0.1, 0.6, 0.03])\n",
        "slider = Slider(slider_ax, '剪切系数', -2, 2, valinit=0.5)\n",
        "\n",
        "def update(val):\n",
        "    k = slider.val\n",
        "    new_matrix = np.array([[1, k], [k, 1]])\n",
        "    plot_transformation(new_matrix)\n",
        "    fig.canvas.draw()  # 手动刷新画布\n",
        "\n",
        "slider.on_changed(update)\n",
        "plt.show()"
      ],
      "metadata": {
        "colab": {
          "base_uri": "https://localhost:8080/",
          "height": 1000
        },
        "collapsed": true,
        "id": "qkh_WXBXgeDa",
        "outputId": "11345f5d-8fed-436f-cd3d-f22f167458f5"
      },
      "execution_count": null,
      "outputs": [
        {
          "output_type": "stream",
          "name": "stderr",
          "text": [
            "<ipython-input-4-d2f757c2ce21>:48: UserWarning: Glyph 32593 (\\N{CJK UNIFIED IDEOGRAPH-7F51}) missing from font(s) DejaVu Sans.\n",
            "  slider = Slider(slider_ax, '剪切系数', -2, 2, valinit=0.5)\n",
            "<ipython-input-4-d2f757c2ce21>:48: UserWarning: Glyph 26684 (\\N{CJK UNIFIED IDEOGRAPH-683C}) missing from font(s) DejaVu Sans.\n",
            "  slider = Slider(slider_ax, '剪切系数', -2, 2, valinit=0.5)\n",
            "<ipython-input-4-d2f757c2ce21>:48: UserWarning: Glyph 21464 (\\N{CJK UNIFIED IDEOGRAPH-53D8}) missing from font(s) DejaVu Sans.\n",
            "  slider = Slider(slider_ax, '剪切系数', -2, 2, valinit=0.5)\n",
            "<ipython-input-4-d2f757c2ce21>:48: UserWarning: Glyph 25442 (\\N{CJK UNIFIED IDEOGRAPH-6362}) missing from font(s) DejaVu Sans.\n",
            "  slider = Slider(slider_ax, '剪切系数', -2, 2, valinit=0.5)\n",
            "<ipython-input-4-d2f757c2ce21>:48: UserWarning: Glyph 29305 (\\N{CJK UNIFIED IDEOGRAPH-7279}) missing from font(s) DejaVu Sans.\n",
            "  slider = Slider(slider_ax, '剪切系数', -2, 2, valinit=0.5)\n",
            "<ipython-input-4-d2f757c2ce21>:48: UserWarning: Glyph 24449 (\\N{CJK UNIFIED IDEOGRAPH-5F81}) missing from font(s) DejaVu Sans.\n",
            "  slider = Slider(slider_ax, '剪切系数', -2, 2, valinit=0.5)\n",
            "<ipython-input-4-d2f757c2ce21>:48: UserWarning: Glyph 21521 (\\N{CJK UNIFIED IDEOGRAPH-5411}) missing from font(s) DejaVu Sans.\n",
            "  slider = Slider(slider_ax, '剪切系数', -2, 2, valinit=0.5)\n",
            "<ipython-input-4-d2f757c2ce21>:48: UserWarning: Glyph 37327 (\\N{CJK UNIFIED IDEOGRAPH-91CF}) missing from font(s) DejaVu Sans.\n",
            "  slider = Slider(slider_ax, '剪切系数', -2, 2, valinit=0.5)\n",
            "<ipython-input-4-d2f757c2ce21>:48: UserWarning: Glyph 20540 (\\N{CJK UNIFIED IDEOGRAPH-503C}) missing from font(s) DejaVu Sans.\n",
            "  slider = Slider(slider_ax, '剪切系数', -2, 2, valinit=0.5)\n",
            "<ipython-input-4-d2f757c2ce21>:48: UserWarning: Glyph 21098 (\\N{CJK UNIFIED IDEOGRAPH-526A}) missing from font(s) DejaVu Sans.\n",
            "  slider = Slider(slider_ax, '剪切系数', -2, 2, valinit=0.5)\n",
            "<ipython-input-4-d2f757c2ce21>:48: UserWarning: Glyph 20999 (\\N{CJK UNIFIED IDEOGRAPH-5207}) missing from font(s) DejaVu Sans.\n",
            "  slider = Slider(slider_ax, '剪切系数', -2, 2, valinit=0.5)\n",
            "<ipython-input-4-d2f757c2ce21>:48: UserWarning: Glyph 31995 (\\N{CJK UNIFIED IDEOGRAPH-7CFB}) missing from font(s) DejaVu Sans.\n",
            "  slider = Slider(slider_ax, '剪切系数', -2, 2, valinit=0.5)\n",
            "<ipython-input-4-d2f757c2ce21>:48: UserWarning: Glyph 25968 (\\N{CJK UNIFIED IDEOGRAPH-6570}) missing from font(s) DejaVu Sans.\n",
            "  slider = Slider(slider_ax, '剪切系数', -2, 2, valinit=0.5)\n",
            "/usr/local/lib/python3.11/dist-packages/IPython/core/pylabtools.py:151: UserWarning: Glyph 32593 (\\N{CJK UNIFIED IDEOGRAPH-7F51}) missing from font(s) DejaVu Sans.\n",
            "  fig.canvas.print_figure(bytes_io, **kw)\n",
            "/usr/local/lib/python3.11/dist-packages/IPython/core/pylabtools.py:151: UserWarning: Glyph 26684 (\\N{CJK UNIFIED IDEOGRAPH-683C}) missing from font(s) DejaVu Sans.\n",
            "  fig.canvas.print_figure(bytes_io, **kw)\n",
            "/usr/local/lib/python3.11/dist-packages/IPython/core/pylabtools.py:151: UserWarning: Glyph 21464 (\\N{CJK UNIFIED IDEOGRAPH-53D8}) missing from font(s) DejaVu Sans.\n",
            "  fig.canvas.print_figure(bytes_io, **kw)\n",
            "/usr/local/lib/python3.11/dist-packages/IPython/core/pylabtools.py:151: UserWarning: Glyph 25442 (\\N{CJK UNIFIED IDEOGRAPH-6362}) missing from font(s) DejaVu Sans.\n",
            "  fig.canvas.print_figure(bytes_io, **kw)\n",
            "/usr/local/lib/python3.11/dist-packages/IPython/core/pylabtools.py:151: UserWarning: Glyph 29305 (\\N{CJK UNIFIED IDEOGRAPH-7279}) missing from font(s) DejaVu Sans.\n",
            "  fig.canvas.print_figure(bytes_io, **kw)\n",
            "/usr/local/lib/python3.11/dist-packages/IPython/core/pylabtools.py:151: UserWarning: Glyph 24449 (\\N{CJK UNIFIED IDEOGRAPH-5F81}) missing from font(s) DejaVu Sans.\n",
            "  fig.canvas.print_figure(bytes_io, **kw)\n",
            "/usr/local/lib/python3.11/dist-packages/IPython/core/pylabtools.py:151: UserWarning: Glyph 21521 (\\N{CJK UNIFIED IDEOGRAPH-5411}) missing from font(s) DejaVu Sans.\n",
            "  fig.canvas.print_figure(bytes_io, **kw)\n",
            "/usr/local/lib/python3.11/dist-packages/IPython/core/pylabtools.py:151: UserWarning: Glyph 37327 (\\N{CJK UNIFIED IDEOGRAPH-91CF}) missing from font(s) DejaVu Sans.\n",
            "  fig.canvas.print_figure(bytes_io, **kw)\n",
            "/usr/local/lib/python3.11/dist-packages/IPython/core/pylabtools.py:151: UserWarning: Glyph 20540 (\\N{CJK UNIFIED IDEOGRAPH-503C}) missing from font(s) DejaVu Sans.\n",
            "  fig.canvas.print_figure(bytes_io, **kw)\n",
            "/usr/local/lib/python3.11/dist-packages/IPython/core/pylabtools.py:151: UserWarning: Glyph 21098 (\\N{CJK UNIFIED IDEOGRAPH-526A}) missing from font(s) DejaVu Sans.\n",
            "  fig.canvas.print_figure(bytes_io, **kw)\n",
            "/usr/local/lib/python3.11/dist-packages/IPython/core/pylabtools.py:151: UserWarning: Glyph 20999 (\\N{CJK UNIFIED IDEOGRAPH-5207}) missing from font(s) DejaVu Sans.\n",
            "  fig.canvas.print_figure(bytes_io, **kw)\n",
            "/usr/local/lib/python3.11/dist-packages/IPython/core/pylabtools.py:151: UserWarning: Glyph 31995 (\\N{CJK UNIFIED IDEOGRAPH-7CFB}) missing from font(s) DejaVu Sans.\n",
            "  fig.canvas.print_figure(bytes_io, **kw)\n",
            "/usr/local/lib/python3.11/dist-packages/IPython/core/pylabtools.py:151: UserWarning: Glyph 25968 (\\N{CJK UNIFIED IDEOGRAPH-6570}) missing from font(s) DejaVu Sans.\n",
            "  fig.canvas.print_figure(bytes_io, **kw)\n"
          ]
        },
        {
          "output_type": "display_data",
          "data": {
            "text/plain": [
              "<Figure size 1200x600 with 3 Axes>"
            ],
            "image/png": "[encoded data removed]"
          },
          "metadata": {}
        }
      ]
    }
  ]
}